{
 "cells": [
  {
   "cell_type": "code",
   "execution_count": null,
   "id": "2e2aa2de",
   "metadata": {},
   "outputs": [],
   "source": [
    "import torch\n",
    "import torchvision\n",
    "from torchvision import transforms,models\n",
    "from paths import *\n",
    "from torchvision.models.detection.faster_rcnn import FastRCNNPredictor\n",
    "import cv2\n",
    "from PIL import Image\n",
    "from skimage import io, transform\n",
    "import matplotlib.pyplot as plt"
   ]
  },
  {
   "cell_type": "code",
   "execution_count": null,
   "id": "23ea9f7f",
   "metadata": {},
   "outputs": [],
   "source": [
    "print(torch.__version__) \n",
    "print(torchvision.__version__)"
   ]
  },
  {
   "cell_type": "code",
   "execution_count": null,
   "id": "8bbc33a8",
   "metadata": {},
   "outputs": [],
   "source": [
    "CLASSES=[\"Dog\",\"Motorcycle\", \"Van\", \"Bus\", \"Bicycle\", \"Car\",\"Person\",\"Man\", \"Truck\"]"
   ]
  },
  {
   "cell_type": "code",
   "execution_count": null,
   "id": "c65d3c6f",
   "metadata": {},
   "outputs": [],
   "source": [
    "my_faster_rcnn = models.detection.fasterrcnn_mobilenet_v3_large_fpn(pretrained=True)\n",
    "num_classes = len(CLASSES)\n",
    "in_features = my_faster_rcnn.roi_heads.box_predictor.cls_score.in_features\n",
    "my_faster_rcnn.roi_heads.box_predictor = FastRCNNPredictor(in_features, num_classes)"
   ]
  },
  {
   "cell_type": "code",
   "execution_count": null,
   "id": "bb7fe480",
   "metadata": {},
   "outputs": [],
   "source": [
    "device = torch.device(\"cuda\" if torch.cuda.is_available() else \"cpu\")\n",
    "device"
   ]
  },
  {
   "cell_type": "code",
   "execution_count": null,
   "id": "1b5b0350",
   "metadata": {},
   "outputs": [],
   "source": [
    "my_faster_rcnn.load_state_dict(torch.load(join(paths[\"MODEL_PATH\"],\"dict_pretrained_faster_rcnn.h\"),map_location=device))\n",
    "my_faster_rcnn.eval()"
   ]
  },
  {
   "cell_type": "code",
   "execution_count": null,
   "id": "db65b3c7",
   "metadata": {},
   "outputs": [],
   "source": [
    "dict_classes = { 0: 'Person',\n",
    "                 1: 'Truck',\n",
    "                 2: 'Van',\n",
    "                 3: 'Car',\n",
    "                 4: 'Bus',\n",
    "                 5: 'Dog',\n",
    "                 6: 'Bicycle',\n",
    "                 7: 'Motorcycle',\n",
    "                 8: \"Person\"}"
   ]
  },
  {
   "cell_type": "code",
   "execution_count": null,
   "id": "9549865f",
   "metadata": {},
   "outputs": [],
   "source": [
    "\n",
    "def OD_images(path_file,classes_map):\n",
    "    img=Image.open(path_file).convert('RGB')\n",
    "    transform = transforms.Compose([transforms.ToTensor()])\n",
    "    img_t = transform(img)\n",
    "    batch_t = torch.unsqueeze(img_t, 0)\n",
    "    results= my_faster_rcnn(batch_t)[0]\n",
    "    boxes=results[\"boxes\"].detach().numpy()\n",
    "    pred_cls=results[\"labels\"].detach().numpy()\n",
    "    score_cls=results[\"scores\"].detach().numpy()\n",
    "\n",
    "    \n",
    "    \n",
    "    img = cv2.imread(path_file) \n",
    "    img = cv2.cvtColor(img, cv2.COLOR_BGR2RGB) \n",
    "    \n",
    "    \n",
    "    for i in range(len(boxes)):\n",
    "        if score_cls[i]>0.2:\n",
    "      \n",
    "            a=int(boxes[i][0])\n",
    "            b=int(boxes[i][1])\n",
    "            x = (int(boxes[i][0]), int(boxes[i][1]))\n",
    "            y = (int(boxes[i][2]), int(boxes[i][3]))\n",
    "            cv2.rectangle(img, x,y,(0, 255, 0),2) \n",
    "            cv2.putText(img, str(dict_classes[pred_cls[i]])+\"-\"+\"%.2f\" % score_cls[i], (a, b + 20), cv2.FONT_HERSHEY_SIMPLEX, 1, (255, 0, 255), 2, cv2.LINE_AA)\n",
    "    \n",
    "    return img\n",
    "           "
   ]
  },
  {
   "cell_type": "code",
   "execution_count": null,
   "id": "a52556b0",
   "metadata": {},
   "outputs": [],
   "source": [
    "train_image_path=os.path.join(paths['IMAGE_PATH'],\"test\",\"data\")"
   ]
  },
  {
   "cell_type": "code",
   "execution_count": null,
   "id": "b2c83951",
   "metadata": {},
   "outputs": [],
   "source": [
    "path_img =join(train_image_path,'00a9f1817594f581.jpg')\n",
    "result=OD_images(path_img,dict_classes)\n",
    "plt.figure(figsize=(10,10)) \n",
    "plt.imshow(result) \n",
    "plt.xticks([]) \n",
    "plt.yticks([]) \n",
    "plt.show()"
   ]
  },
  {
   "cell_type": "code",
   "execution_count": null,
   "id": "2c9bb842",
   "metadata": {
    "scrolled": true
   },
   "outputs": [],
   "source": [
    "path_img2=join(train_image_path,'01537bd4806aea21.jpg')\n",
    "result=OD_images(path_img2,dict_classes)\n",
    "plt.figure(figsize=(10,10)) \n",
    "plt.imshow(result) \n",
    "plt.xticks([]) \n",
    "plt.yticks([]) \n",
    "plt.show()"
   ]
  },
  {
   "cell_type": "code",
   "execution_count": null,
   "id": "ced5d639",
   "metadata": {},
   "outputs": [],
   "source": [
    "path_img2=join(train_image_path,'007a4d234b26981c.jpg')\n",
    "result=OD_images(path_img2,dict_classes)\n",
    "plt.figure(figsize=(10,10)) \n",
    "plt.imshow(result) \n",
    "plt.xticks([]) \n",
    "plt.yticks([]) \n",
    "plt.show()"
   ]
  }
 ],
 "metadata": {
  "kernelspec": {
   "display_name": "Python (final_results)",
   "language": "python",
   "name": "final_results"
  },
  "language_info": {
   "codemirror_mode": {
    "name": "ipython",
    "version": 3
   },
   "file_extension": ".py",
   "mimetype": "text/x-python",
   "name": "python",
   "nbconvert_exporter": "python",
   "pygments_lexer": "ipython3",
   "version": "3.9.10"
  }
 },
 "nbformat": 4,
 "nbformat_minor": 5
}
