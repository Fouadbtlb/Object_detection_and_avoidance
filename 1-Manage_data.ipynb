{
 "cells": [
  {
   "cell_type": "markdown",
   "id": "c06cc140",
   "metadata": {},
   "source": [
    "# 1. Managing the directories and paths"
   ]
  },
  {
   "cell_type": "code",
   "execution_count": null,
   "id": "42387bb5",
   "metadata": {},
   "outputs": [],
   "source": [
    "!pip install --upgrade fiftyone"
   ]
  },
  {
   "cell_type": "code",
   "execution_count": null,
   "id": "0d22d859",
   "metadata": {},
   "outputs": [],
   "source": [
    "#if you are having troubles just reboot the pc\n",
    "import fiftyone as fo\n",
    "from fiftyone import ViewField as F\n",
    "from paths import * #paths if our file paths.py\n",
    "import pandas as pd\n",
    "import cv2"
   ]
  },
  {
   "cell_type": "code",
   "execution_count": null,
   "id": "36bd9047",
   "metadata": {},
   "outputs": [],
   "source": [
    "for path in paths.values():\n",
    "    if not os.path.exists(path):\n",
    "        !mkdir -p {path}"
   ]
  },
  {
   "cell_type": "code",
   "execution_count": null,
   "id": "61d1ba41",
   "metadata": {},
   "outputs": [],
   "source": [
    "for path in paths.values():\n",
    "    if not os.path.exists(path):\n",
    "        !mkdir -p {path}"
   ]
  },
  {
   "cell_type": "code",
   "execution_count": null,
   "id": "814a5b40",
   "metadata": {},
   "outputs": [],
   "source": [
    "CLASSES=[\"Dog\",\"Motorcycle\", \"Van\", \"Bus\", \"Bicycle\", \"Car\",\"Person\",\"Man\", \"Truck\"]"
   ]
  },
  {
   "cell_type": "markdown",
   "id": "5eeb0728",
   "metadata": {},
   "source": [
    "# 2. Download Open image data"
   ]
  },
  {
   "cell_type": "code",
   "execution_count": null,
   "id": "b057c01a",
   "metadata": {},
   "outputs": [],
   "source": [
    "train_dataset = fo.zoo.load_zoo_dataset(\n",
    "              \"open-images-v6\",\n",
    "              split=\"train\",\n",
    "              label_types=[\"detections\"],\n",
    "              classes=CLASSES,\n",
    "              dataset_dir=paths[\"IMAGE_PATH\"],\n",
    "              max_samples=15000,\n",
    "          )"
   ]
  },
  {
   "cell_type": "code",
   "execution_count": null,
   "id": "f1ee75b3",
   "metadata": {},
   "outputs": [],
   "source": [
    "test_dataset = fo.zoo.load_zoo_dataset(\n",
    "              \"open-images-v6\",\n",
    "              split=\"test\",\n",
    "              label_types=[\"detections\"],\n",
    "              classes=CLASSES,\n",
    "              dataset_dir=paths[\"IMAGE_PATH\"],\n",
    "              max_samples=300,\n",
    "          )"
   ]
  },
  {
   "cell_type": "code",
   "execution_count": null,
   "id": "9cc24842",
   "metadata": {},
   "outputs": [],
   "source": [
    "validation_dataset = fo.zoo.load_zoo_dataset(\n",
    "              \"open-images-v6\",\n",
    "              split=\"validation\",\n",
    "              label_types=[\"detections\"],\n",
    "              classes=CLASSES,\n",
    "              dataset_dir=paths[\"IMAGE_PATH\"],\n",
    "              max_samples=301,\n",
    "          )"
   ]
  },
  {
   "cell_type": "markdown",
   "id": "0aab33d6",
   "metadata": {},
   "source": [
    "# 3. data pre-processing"
   ]
  },
  {
   "cell_type": "code",
   "execution_count": null,
   "id": "4625944f",
   "metadata": {},
   "outputs": [],
   "source": [
    "# 3. data pre-processing\n",
    "training_annotation_loc = os.path.join(paths['IMAGE_PATH'],\"train\",\"labels\",\"detections.csv\")\n",
    "training_annotation_file = pd.read_csv(training_annotation_loc)\n",
    "print(\"records present for training befor filtering: \",training_annotation_file.shape)\n",
    "training_annotation_file.head()"
   ]
  },
  {
   "cell_type": "code",
   "execution_count": null,
   "id": "51962201",
   "metadata": {},
   "outputs": [],
   "source": [
    "# The classes.csv contains the name of all 600 classes with their corresponding ‘LabelName’\n",
    "class_descriptions_file=os.path.join(paths['IMAGE_PATH'],\"train\",\"metadata\",\"classes.csv\")\n",
    "class_descriptions = pd.read_csv(class_descriptions_file, header=None,names=[\"LabelName\", \"ClassName\"])\n",
    "class_descriptions.shape"
   ]
  },
  {
   "cell_type": "code",
   "execution_count": null,
   "id": "232f775f",
   "metadata": {},
   "outputs": [],
   "source": [
    "# Find the label_name for my classes\n",
    "my_classes = class_descriptions[class_descriptions[\"ClassName\"].isin(CLASSES)]\n",
    "my_classes"
   ]
  },
  {
   "cell_type": "markdown",
   "id": "8e195e79",
   "metadata": {},
   "source": [
    "**3.1 train data**"
   ]
  },
  {
   "cell_type": "code",
   "execution_count": null,
   "id": "5ff14a9a",
   "metadata": {},
   "outputs": [],
   "source": [
    "#filtering to only have the boxes of our classes\n",
    "training_filtred_data=training_annotation_file.merge(my_classes, on=\"LabelName\", how='inner')"
   ]
  },
  {
   "cell_type": "code",
   "execution_count": null,
   "id": "e60e0af9",
   "metadata": {},
   "outputs": [],
   "source": [
    "training_filtred_data[\"ClassName\"].count()"
   ]
  },
  {
   "cell_type": "code",
   "execution_count": null,
   "id": "8181c9c5",
   "metadata": {},
   "outputs": [],
   "source": [
    "training_filtred_data['ClassName'].value_counts()"
   ]
  },
  {
   "cell_type": "code",
   "execution_count": null,
   "id": "a094556a",
   "metadata": {},
   "outputs": [],
   "source": [
    "train_df= training_filtred_data.loc[:,['ImageID','XMin','XMax','YMin','YMax','ClassName']]\n",
    "train_df['ImageID']=train_df['ImageID']+'.jpg'\n",
    "train_df.head()"
   ]
  },
  {
   "cell_type": "code",
   "execution_count": null,
   "id": "820686f6",
   "metadata": {},
   "outputs": [],
   "source": [
    "train_image_path=os.path.join(paths['IMAGE_PATH'],\"train\",\"data\")\n",
    "train_onlyfiles = [f for f in listdir(train_image_path) if isfile(join(train_image_path, f))]\n",
    "train_images_df=pd.DataFrame(train_onlyfiles,columns=['ImageID'])\n",
    "train_df=train_df.merge(train_images_df, on=\"ImageID\", how='inner')"
   ]
  },
  {
   "cell_type": "markdown",
   "id": "4e12fedb",
   "metadata": {},
   "source": [
    "**3.2 test data**"
   ]
  },
  {
   "cell_type": "code",
   "execution_count": null,
   "id": "0a6afd4d",
   "metadata": {},
   "outputs": [],
   "source": [
    "testing_annotation_loc = os.path.join(paths['IMAGE_PATH'],\"test\",\"labels\",\"detections.csv\")\n",
    "testing_annotation_file = pd.read_csv(testing_annotation_loc)\n",
    "print(\"records present for testing befor filtering: \",testing_annotation_file.shape)\n",
    "testing_filtred_data=testing_annotation_file.merge(my_classes, on=\"LabelName\", how='inner')\n",
    "testing_filtred_data['ClassName'].value_counts()"
   ]
  },
  {
   "cell_type": "code",
   "execution_count": null,
   "id": "dd89c9b7",
   "metadata": {},
   "outputs": [],
   "source": [
    "test_df= testing_filtred_data.loc[:,['ImageID','XMin','XMax','YMin','YMax','ClassName']]\n",
    "test_df['ImageID']=test_df['ImageID']+'.jpg'\n",
    "test_df.head()"
   ]
  },
  {
   "cell_type": "code",
   "execution_count": null,
   "id": "a5152a3a",
   "metadata": {},
   "outputs": [],
   "source": [
    "test_image_path=os.path.join(paths['IMAGE_PATH'],\"test\",\"data\")\n",
    "test_onlyfiles = [f for f in listdir(test_image_path) if isfile(join(test_image_path, f))]\n",
    "test_images_df=pd.DataFrame(test_onlyfiles,columns=['ImageID'])\n",
    "test_df=test_df.merge(test_images_df, on=\"ImageID\", how='inner')"
   ]
  },
  {
   "cell_type": "markdown",
   "id": "d9f92a77",
   "metadata": {},
   "source": [
    "**3.3 Validation data**"
   ]
  },
  {
   "cell_type": "code",
   "execution_count": null,
   "id": "2cddaea4",
   "metadata": {},
   "outputs": [],
   "source": [
    "val_annotation_loc = os.path.join(paths['IMAGE_PATH'],\"validation\",\"labels\",\"detections.csv\")\n",
    "val_annotation_file = pd.read_csv(val_annotation_loc)\n",
    "print(\"records present for validation befor filtering : \",val_annotation_file.shape)\n",
    "val_filtred_data=val_annotation_file.merge(my_classes, on=\"LabelName\", how='inner')\n",
    "val_filtred_data['ClassName'].value_counts()"
   ]
  },
  {
   "cell_type": "code",
   "execution_count": null,
   "id": "e933eeff",
   "metadata": {},
   "outputs": [],
   "source": [
    "val_df= val_filtred_data.loc[:,['ImageID','XMin','XMax','YMin','YMax','ClassName']]\n",
    "val_df['ImageID']=val_df['ImageID']+'.jpg'\n",
    "val_df.head()"
   ]
  },
  {
   "cell_type": "code",
   "execution_count": null,
   "id": "176130c5",
   "metadata": {},
   "outputs": [],
   "source": [
    "val_image_path=os.path.join(paths['IMAGE_PATH'],\"validation\",\"data\")\n",
    "val_onlyfiles = [f for f in listdir(val_image_path) if isfile(join(val_image_path, f))]\n",
    "val_images_df=pd.DataFrame(val_onlyfiles,columns=['ImageID'])\n",
    "val_df=val_df.merge(val_images_df, on=\"ImageID\", how='inner')"
   ]
  },
  {
   "cell_type": "markdown",
   "id": "6f597326",
   "metadata": {},
   "source": [
    "# 4. Exporting"
   ]
  },
  {
   "cell_type": "markdown",
   "id": "02b437eb",
   "metadata": {},
   "source": [
    "**4.1 EXPORTING CVS**"
   ]
  },
  {
   "cell_type": "code",
   "execution_count": null,
   "id": "c873f274",
   "metadata": {},
   "outputs": [],
   "source": [
    "train_df.to_csv(os.path.join(paths['ANNOTATION_TRAIN_PATH'],'train.csv'))\n",
    "test_df.to_csv(os.path.join(paths['ANNOTATION_TEST_PATH'],'test.csv'))\n",
    "val_df.to_csv(os.path.join(paths['ANNOTATION_VAL_PATH'],'val.csv'))"
   ]
  },
  {
   "cell_type": "markdown",
   "id": "d4b3fff3",
   "metadata": {},
   "source": [
    "**4.2 create annotation fileS**"
   ]
  },
  {
   "cell_type": "code",
   "execution_count": null,
   "id": "fe6aa1e8",
   "metadata": {},
   "outputs": [],
   "source": [
    "def df_to_annotation(df,filepath,part=\"train\"):\n",
    "    with open(filepath, \"w+\") as f:\n",
    "        for idx, row in df.iterrows():\n",
    "            fileName = os.path.join(paths[\"IMAGE_PATH\"],part,'data',row['ImageID'])\n",
    "            img = cv2.imread(fileName)\n",
    "            height, width = img.shape[:2]\n",
    "            x1 = int(row['XMin'] * width)\n",
    "            x2 = int(row['XMax'] * width)\n",
    "            y1 = int(row['YMin'] * height)\n",
    "            y2 = int(row['YMax'] * height)\n",
    "            className = row['ClassName']\n",
    "            f.write(fileName + ',' + str(x1) + ',' + str(y1) + ',' + str(x2) + ',' + str(y2) + ',' + className + '\\n')"
   ]
  },
  {
   "cell_type": "code",
   "execution_count": null,
   "id": "cbd7538f",
   "metadata": {},
   "outputs": [],
   "source": [
    "train_annotation_file=os.path.join(paths['ANNOTATION_TRAIN_PATH'],\"annotation.txt\")\n",
    "!touch train_annotation_file #create the file if it doesn't exist\n",
    "#uncomment it if you want to load df from disk\n",
    "#train_df = pd.read_csv(join(paths['ANNOTATION_TRAIN_PATH'],'train.csv')) \n",
    "df_to_annotation(train_df,train_annotation_file,\"train\")"
   ]
  },
  {
   "cell_type": "code",
   "execution_count": null,
   "id": "6c8a428d",
   "metadata": {},
   "outputs": [],
   "source": [
    "test_annotation_file=os.path.join(paths['ANNOTATION_TEST_PATH'],\"annotation.txt\")\n",
    "!touch test_annotation_file #create the file if it doesn't exist\n",
    "#uncomment it if you want to load df from disk\n",
    "#test_df = pd.read_csv(join(paths['ANNOTATION_TEST_PATH'],'test.csv'))\n",
    "df_to_annotation(test_df,test_annotation_file,\"test\")"
   ]
  },
  {
   "cell_type": "code",
   "execution_count": null,
   "id": "ce32fa39",
   "metadata": {},
   "outputs": [],
   "source": [
    "val_annotation_file=os.path.join(paths['ANNOTATION_VAL_PATH'],\"annotation.txt\")\n",
    "!touch val_annotation_file #create the file if it doesn't exist\n",
    "#uncomment it if you want to load df from disk\n",
    "#val_df = pd.read_csv(join(paths['ANNOTATION_VAL_PATH'],'val.csv'))\n",
    "df_to_annotation(val_df,val_annotation_file,\"validation\")"
   ]
  },
  {
   "cell_type": "markdown",
   "id": "941238da",
   "metadata": {},
   "source": [
    "Now we have annotation files in the format path_to_image,x1,y1,x2,y2,className (ex Dog)"
   ]
  }
 ],
 "metadata": {
  "kernelspec": {
   "display_name": "Python (final_results)",
   "language": "python",
   "name": "final_results"
  },
  "language_info": {
   "codemirror_mode": {
    "name": "ipython",
    "version": 3
   },
   "file_extension": ".py",
   "mimetype": "text/x-python",
   "name": "python",
   "nbconvert_exporter": "python",
   "pygments_lexer": "ipython3",
   "version": "3.9.10"
  }
 },
 "nbformat": 4,
 "nbformat_minor": 5
}
