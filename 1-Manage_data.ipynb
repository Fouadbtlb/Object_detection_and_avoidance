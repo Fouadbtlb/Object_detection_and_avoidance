{
 "cells": [
  {
   "cell_type": "markdown",
   "id": "c06cc140",
   "metadata": {},
   "source": [
    "# 1. Managing the directories and paths"
   ]
  },
  {
   "cell_type": "code",
   "execution_count": 1,
   "id": "42387bb5",
   "metadata": {},
   "outputs": [
    {
     "name": "stdout",
     "output_type": "stream",
     "text": [
      "Looking in indexes: https://pypi.org/simple, https://pypi.ngc.nvidia.com\n",
      "Requirement already satisfied: fiftyone in /home/fouad/anaconda3/envs/final_results/lib/python3.9/site-packages (0.14.4)\n",
      "Requirement already satisfied: opencv-python-headless in /home/fouad/anaconda3/envs/final_results/lib/python3.9/site-packages (from fiftyone) (4.5.5.62)\n",
      "Requirement already satisfied: PyYAML in /home/fouad/anaconda3/envs/final_results/lib/python3.9/site-packages (from fiftyone) (6.0)\n",
      "Requirement already satisfied: voxel51-eta<0.7,>=0.6.3 in /home/fouad/anaconda3/envs/final_results/lib/python3.9/site-packages (from fiftyone) (0.6.4)\n",
      "Requirement already satisfied: Pillow>=6.2 in /home/fouad/anaconda3/envs/final_results/lib/python3.9/site-packages (from fiftyone) (9.0.1)\n",
      "Requirement already satisfied: boto3 in /home/fouad/anaconda3/envs/final_results/lib/python3.9/site-packages (from fiftyone) (1.21.7)\n",
      "Requirement already satisfied: kaleido in /home/fouad/anaconda3/envs/final_results/lib/python3.9/site-packages (from fiftyone) (0.2.1)\n",
      "Requirement already satisfied: plotly<5,>=4.14 in /home/fouad/anaconda3/envs/final_results/lib/python3.9/site-packages (from fiftyone) (4.14.3)\n",
      "Requirement already satisfied: pytz in /home/fouad/anaconda3/envs/final_results/lib/python3.9/site-packages (from fiftyone) (2021.3)\n",
      "Requirement already satisfied: pymongo<4,>=3.11 in /home/fouad/anaconda3/envs/final_results/lib/python3.9/site-packages (from fiftyone) (3.12.3)\n",
      "Requirement already satisfied: pandas in /home/fouad/anaconda3/envs/final_results/lib/python3.9/site-packages (from fiftyone) (1.4.1)\n",
      "Requirement already satisfied: tabulate in /home/fouad/anaconda3/envs/final_results/lib/python3.9/site-packages (from fiftyone) (0.8.9)\n",
      "Requirement already satisfied: motor<3,>=2.3 in /home/fouad/anaconda3/envs/final_results/lib/python3.9/site-packages (from fiftyone) (2.5.1)\n",
      "Requirement already satisfied: eventlet in /home/fouad/anaconda3/envs/final_results/lib/python3.9/site-packages (from fiftyone) (0.33.0)\n",
      "Requirement already satisfied: scikit-image in /home/fouad/anaconda3/envs/final_results/lib/python3.9/site-packages (from fiftyone) (0.19.2)\n",
      "Requirement already satisfied: Jinja2 in /home/fouad/anaconda3/envs/final_results/lib/python3.9/site-packages (from fiftyone) (3.0.3)\n",
      "Requirement already satisfied: future in /home/fouad/anaconda3/envs/final_results/lib/python3.9/site-packages (from fiftyone) (0.18.2)\n",
      "Requirement already satisfied: numpy in /home/fouad/anaconda3/envs/final_results/lib/python3.9/site-packages (from fiftyone) (1.22.2)\n",
      "Requirement already satisfied: ndjson in /home/fouad/anaconda3/envs/final_results/lib/python3.9/site-packages (from fiftyone) (0.3.1)\n",
      "Requirement already satisfied: Deprecated in /home/fouad/anaconda3/envs/final_results/lib/python3.9/site-packages (from fiftyone) (1.2.13)\n",
      "Requirement already satisfied: mongoengine==0.20.0 in /home/fouad/anaconda3/envs/final_results/lib/python3.9/site-packages (from fiftyone) (0.20.0)\n",
      "Requirement already satisfied: matplotlib in /home/fouad/anaconda3/envs/final_results/lib/python3.9/site-packages (from fiftyone) (3.5.1)\n",
      "Requirement already satisfied: universal-analytics-python3<2,>=1.0.1 in /home/fouad/anaconda3/envs/final_results/lib/python3.9/site-packages (from fiftyone) (1.1.1)\n",
      "Requirement already satisfied: fiftyone-db<0.4,>=0.3 in /home/fouad/anaconda3/envs/final_results/lib/python3.9/site-packages (from fiftyone) (0.3.0)\n",
      "Requirement already satisfied: xmltodict in /home/fouad/anaconda3/envs/final_results/lib/python3.9/site-packages (from fiftyone) (0.12.0)\n",
      "Requirement already satisfied: psutil in /home/fouad/anaconda3/envs/final_results/lib/python3.9/site-packages (from fiftyone) (5.9.0)\n",
      "Requirement already satisfied: argcomplete in /home/fouad/anaconda3/envs/final_results/lib/python3.9/site-packages (from fiftyone) (2.0.0)\n",
      "Requirement already satisfied: tornado<7,>=5.1.1 in /home/fouad/anaconda3/envs/final_results/lib/python3.9/site-packages (from fiftyone) (6.1)\n",
      "Requirement already satisfied: packaging in /home/fouad/anaconda3/envs/final_results/lib/python3.9/site-packages (from fiftyone) (21.3)\n",
      "Requirement already satisfied: scikit-learn in /home/fouad/anaconda3/envs/final_results/lib/python3.9/site-packages (from fiftyone) (1.0.2)\n",
      "Requirement already satisfied: setuptools in /home/fouad/.local/lib/python3.9/site-packages (from fiftyone) (47.3.1)\n",
      "Requirement already satisfied: aiofiles in /home/fouad/anaconda3/envs/final_results/lib/python3.9/site-packages (from fiftyone) (0.8.0)\n",
      "Requirement already satisfied: retrying in /home/fouad/anaconda3/envs/final_results/lib/python3.9/site-packages (from fiftyone) (1.3.3)\n",
      "Requirement already satisfied: fiftyone-brain<0.9,>=0.8 in /home/fouad/anaconda3/envs/final_results/lib/python3.9/site-packages (from fiftyone) (0.8.0)\n",
      "Requirement already satisfied: pprintpp in /home/fouad/anaconda3/envs/final_results/lib/python3.9/site-packages (from fiftyone) (0.4.0)\n",
      "Requirement already satisfied: scipy>=1.2.0 in /home/fouad/anaconda3/envs/final_results/lib/python3.9/site-packages (from fiftyone-brain<0.9,>=0.8->fiftyone) (1.8.0)\n",
      "Requirement already satisfied: six in /home/fouad/anaconda3/envs/final_results/lib/python3.9/site-packages (from plotly<5,>=4.14->fiftyone) (1.16.0)\n",
      "Requirement already satisfied: httpx>=0.10.0 in /home/fouad/anaconda3/envs/final_results/lib/python3.9/site-packages (from universal-analytics-python3<2,>=1.0.1->fiftyone) (0.22.0)\n",
      "Requirement already satisfied: sortedcontainers in /home/fouad/anaconda3/envs/final_results/lib/python3.9/site-packages (from voxel51-eta<0.7,>=0.6.3->fiftyone) (2.4.0)\n",
      "Requirement already satisfied: patool in /home/fouad/anaconda3/envs/final_results/lib/python3.9/site-packages (from voxel51-eta<0.7,>=0.6.3->fiftyone) (1.12)\n",
      "Requirement already satisfied: dill in /home/fouad/anaconda3/envs/final_results/lib/python3.9/site-packages (from voxel51-eta<0.7,>=0.6.3->fiftyone) (0.3.4)\n",
      "Requirement already satisfied: urllib3 in /home/fouad/anaconda3/envs/final_results/lib/python3.9/site-packages (from voxel51-eta<0.7,>=0.6.3->fiftyone) (1.26.8)\n",
      "Requirement already satisfied: python-dateutil in /home/fouad/anaconda3/envs/final_results/lib/python3.9/site-packages (from voxel51-eta<0.7,>=0.6.3->fiftyone) (2.8.2)\n",
      "Requirement already satisfied: tzlocal in /home/fouad/anaconda3/envs/final_results/lib/python3.9/site-packages (from voxel51-eta<0.7,>=0.6.3->fiftyone) (4.1)\n",
      "Requirement already satisfied: glob2 in /home/fouad/anaconda3/envs/final_results/lib/python3.9/site-packages (from voxel51-eta<0.7,>=0.6.3->fiftyone) (0.7)\n",
      "Requirement already satisfied: requests in /home/fouad/anaconda3/envs/final_results/lib/python3.9/site-packages (from voxel51-eta<0.7,>=0.6.3->fiftyone) (2.27.1)\n",
      "Requirement already satisfied: botocore<1.25.0,>=1.24.7 in /home/fouad/anaconda3/envs/final_results/lib/python3.9/site-packages (from boto3->fiftyone) (1.24.7)\n",
      "Requirement already satisfied: jmespath<1.0.0,>=0.7.1 in /home/fouad/anaconda3/envs/final_results/lib/python3.9/site-packages (from boto3->fiftyone) (0.10.0)\n",
      "Requirement already satisfied: s3transfer<0.6.0,>=0.5.0 in /home/fouad/anaconda3/envs/final_results/lib/python3.9/site-packages (from boto3->fiftyone) (0.5.2)\n",
      "Requirement already satisfied: wrapt<2,>=1.10 in /home/fouad/anaconda3/envs/final_results/lib/python3.9/site-packages (from Deprecated->fiftyone) (1.13.3)\n",
      "Requirement already satisfied: greenlet>=0.3 in /home/fouad/anaconda3/envs/final_results/lib/python3.9/site-packages (from eventlet->fiftyone) (1.1.2)\n",
      "Requirement already satisfied: dnspython>=1.15.0 in /home/fouad/anaconda3/envs/final_results/lib/python3.9/site-packages (from eventlet->fiftyone) (2.2.0)\n",
      "Requirement already satisfied: MarkupSafe>=2.0 in /home/fouad/anaconda3/envs/final_results/lib/python3.9/site-packages (from Jinja2->fiftyone) (2.1.0)\n",
      "Requirement already satisfied: kiwisolver>=1.0.1 in /home/fouad/anaconda3/envs/final_results/lib/python3.9/site-packages (from matplotlib->fiftyone) (1.3.2)\n",
      "Requirement already satisfied: cycler>=0.10 in /home/fouad/anaconda3/envs/final_results/lib/python3.9/site-packages (from matplotlib->fiftyone) (0.11.0)\n",
      "Requirement already satisfied: fonttools>=4.22.0 in /home/fouad/anaconda3/envs/final_results/lib/python3.9/site-packages (from matplotlib->fiftyone) (4.29.1)\n",
      "Requirement already satisfied: pyparsing>=2.2.1 in /home/fouad/anaconda3/envs/final_results/lib/python3.9/site-packages (from matplotlib->fiftyone) (3.0.7)\n"
     ]
    },
    {
     "name": "stdout",
     "output_type": "stream",
     "text": [
      "Requirement already satisfied: PyWavelets>=1.1.1 in /home/fouad/anaconda3/envs/final_results/lib/python3.9/site-packages (from scikit-image->fiftyone) (1.2.0)\n",
      "Requirement already satisfied: tifffile>=2019.7.26 in /home/fouad/anaconda3/envs/final_results/lib/python3.9/site-packages (from scikit-image->fiftyone) (2022.2.9)\n",
      "Requirement already satisfied: imageio>=2.4.1 in /home/fouad/anaconda3/envs/final_results/lib/python3.9/site-packages (from scikit-image->fiftyone) (2.16.0)\n",
      "Requirement already satisfied: networkx>=2.2 in /home/fouad/anaconda3/envs/final_results/lib/python3.9/site-packages (from scikit-image->fiftyone) (2.6.3)\n",
      "Requirement already satisfied: threadpoolctl>=2.0.0 in /home/fouad/anaconda3/envs/final_results/lib/python3.9/site-packages (from scikit-learn->fiftyone) (3.1.0)\n",
      "Requirement already satisfied: joblib>=0.11 in /home/fouad/anaconda3/envs/final_results/lib/python3.9/site-packages (from scikit-learn->fiftyone) (1.1.0)\n",
      "Requirement already satisfied: rfc3986[idna2008]<2,>=1.3 in /home/fouad/anaconda3/envs/final_results/lib/python3.9/site-packages (from httpx>=0.10.0->universal-analytics-python3<2,>=1.0.1->fiftyone) (1.5.0)\n",
      "Requirement already satisfied: certifi in /home/fouad/anaconda3/envs/final_results/lib/python3.9/site-packages (from httpx>=0.10.0->universal-analytics-python3<2,>=1.0.1->fiftyone) (2021.10.8)\n",
      "Requirement already satisfied: httpcore<0.15.0,>=0.14.5 in /home/fouad/anaconda3/envs/final_results/lib/python3.9/site-packages (from httpx>=0.10.0->universal-analytics-python3<2,>=1.0.1->fiftyone) (0.14.7)\n",
      "Requirement already satisfied: sniffio in /home/fouad/anaconda3/envs/final_results/lib/python3.9/site-packages (from httpx>=0.10.0->universal-analytics-python3<2,>=1.0.1->fiftyone) (1.2.0)\n",
      "Requirement already satisfied: charset-normalizer in /home/fouad/anaconda3/envs/final_results/lib/python3.9/site-packages (from httpx>=0.10.0->universal-analytics-python3<2,>=1.0.1->fiftyone) (2.0.12)\n",
      "Requirement already satisfied: idna<4,>=2.5 in /home/fouad/anaconda3/envs/final_results/lib/python3.9/site-packages (from requests->voxel51-eta<0.7,>=0.6.3->fiftyone) (3.3)\n",
      "Requirement already satisfied: pytz-deprecation-shim in /home/fouad/anaconda3/envs/final_results/lib/python3.9/site-packages (from tzlocal->voxel51-eta<0.7,>=0.6.3->fiftyone) (0.1.0.post0)\n",
      "Requirement already satisfied: anyio==3.* in /home/fouad/anaconda3/envs/final_results/lib/python3.9/site-packages (from httpcore<0.15.0,>=0.14.5->httpx>=0.10.0->universal-analytics-python3<2,>=1.0.1->fiftyone) (3.5.0)\n",
      "Requirement already satisfied: h11<0.13,>=0.11 in /home/fouad/anaconda3/envs/final_results/lib/python3.9/site-packages (from httpcore<0.15.0,>=0.14.5->httpx>=0.10.0->universal-analytics-python3<2,>=1.0.1->fiftyone) (0.12.0)\n",
      "Requirement already satisfied: tzdata in /home/fouad/anaconda3/envs/final_results/lib/python3.9/site-packages (from pytz-deprecation-shim->tzlocal->voxel51-eta<0.7,>=0.6.3->fiftyone) (2021.5)\n"
     ]
    }
   ],
   "source": [
    "!pip install --upgrade fiftyone"
   ]
  },
  {
   "cell_type": "code",
   "execution_count": 1,
   "id": "0d22d859",
   "metadata": {},
   "outputs": [],
   "source": [
    "#if you are having troubles just reboot the pc\n",
    "import fiftyone as fo\n",
    "from fiftyone import ViewField as F\n",
    "from paths import * #paths if our file paths.py\n",
    "import pandas as pd\n",
    "import cv2"
   ]
  },
  {
   "cell_type": "code",
   "execution_count": 2,
   "id": "36bd9047",
   "metadata": {},
   "outputs": [],
   "source": [
    "for path in paths.values():\n",
    "    if not os.path.exists(path):\n",
    "        !mkdir -p {path}"
   ]
  },
  {
   "cell_type": "code",
   "execution_count": 3,
   "id": "61d1ba41",
   "metadata": {},
   "outputs": [],
   "source": [
    "for path in paths.values():\n",
    "    if not os.path.exists(path):\n",
    "        !mkdir -p {path}"
   ]
  },
  {
   "cell_type": "code",
   "execution_count": 4,
   "id": "814a5b40",
   "metadata": {},
   "outputs": [],
   "source": [
    "CLASSES=[\"Dog\",\"Motorcycle\", \"Van\", \"Bus\", \"Bicycle\", \"Car\",\"Person\",\"Man\", \"Truck\"]"
   ]
  },
  {
   "cell_type": "markdown",
   "id": "5eeb0728",
   "metadata": {},
   "source": [
    "# 2. Download Open image data"
   ]
  },
  {
   "cell_type": "code",
   "execution_count": 5,
   "id": "b057c01a",
   "metadata": {},
   "outputs": [
    {
     "name": "stdout",
     "output_type": "stream",
     "text": [
      "Downloading split 'train' to 'Pytorch/workspace/images/train' if necessary\n",
      "Necessary images already downloaded\n",
      "Existing download of split 'train' is sufficient\n",
      "Loading 'open-images-v6' split 'train'\n",
      " 100% |█████████████| 15000/15000 [1.5m elapsed, 0s remaining, 145.1 samples/s]      \n",
      "Dataset 'open-images-v6-train-15000' created\n"
     ]
    }
   ],
   "source": [
    "train_dataset = fo.zoo.load_zoo_dataset(\n",
    "              \"open-images-v6\",\n",
    "              split=\"train\",\n",
    "              label_types=[\"detections\"],\n",
    "              classes=CLASSES,\n",
    "              dataset_dir=paths[\"IMAGE_PATH\"],\n",
    "              max_samples=15000,\n",
    "          )"
   ]
  },
  {
   "cell_type": "code",
   "execution_count": 6,
   "id": "f1ee75b3",
   "metadata": {},
   "outputs": [
    {
     "name": "stdout",
     "output_type": "stream",
     "text": [
      "Downloading split 'test' to 'Pytorch/workspace/images/test' if necessary\n",
      "Necessary images already downloaded\n",
      "Existing download of split 'test' is sufficient\n",
      "Loading 'open-images-v6' split 'test'\n",
      " 100% |█████████████████| 300/300 [2.5s elapsed, 0s remaining, 124.7 samples/s]      \n",
      "Dataset 'open-images-v6-test-300' created\n"
     ]
    }
   ],
   "source": [
    "test_dataset = fo.zoo.load_zoo_dataset(\n",
    "              \"open-images-v6\",\n",
    "              split=\"test\",\n",
    "              label_types=[\"detections\"],\n",
    "              classes=CLASSES,\n",
    "              dataset_dir=paths[\"IMAGE_PATH\"],\n",
    "              max_samples=300,\n",
    "          )"
   ]
  },
  {
   "cell_type": "code",
   "execution_count": 7,
   "id": "9cc24842",
   "metadata": {},
   "outputs": [
    {
     "name": "stdout",
     "output_type": "stream",
     "text": [
      "Downloading split 'validation' to 'Pytorch/workspace/images/validation' if necessary\n",
      "Necessary images already downloaded\n",
      "Existing download of split 'validation' is sufficient\n",
      "Loading 'open-images-v6' split 'validation'\n",
      " 100% |█████████████████| 301/301 [2.1s elapsed, 0s remaining, 139.3 samples/s]      \n",
      "Dataset 'open-images-v6-validation-301' created\n"
     ]
    }
   ],
   "source": [
    "validation_dataset = fo.zoo.load_zoo_dataset(\n",
    "              \"open-images-v6\",\n",
    "              split=\"validation\",\n",
    "              label_types=[\"detections\"],\n",
    "              classes=CLASSES,\n",
    "              dataset_dir=paths[\"IMAGE_PATH\"],\n",
    "              max_samples=301,\n",
    "          )"
   ]
  },
  {
   "cell_type": "markdown",
   "id": "0aab33d6",
   "metadata": {},
   "source": [
    "# 3. data pre-processing"
   ]
  },
  {
   "cell_type": "code",
   "execution_count": 8,
   "id": "4625944f",
   "metadata": {},
   "outputs": [
    {
     "name": "stdout",
     "output_type": "stream",
     "text": [
      "records present for training befor filtering:  (14610229, 21)\n"
     ]
    },
    {
     "data": {
      "text/html": [
       "<div>\n",
       "<style scoped>\n",
       "    .dataframe tbody tr th:only-of-type {\n",
       "        vertical-align: middle;\n",
       "    }\n",
       "\n",
       "    .dataframe tbody tr th {\n",
       "        vertical-align: top;\n",
       "    }\n",
       "\n",
       "    .dataframe thead th {\n",
       "        text-align: right;\n",
       "    }\n",
       "</style>\n",
       "<table border=\"1\" class=\"dataframe\">\n",
       "  <thead>\n",
       "    <tr style=\"text-align: right;\">\n",
       "      <th></th>\n",
       "      <th>ImageID</th>\n",
       "      <th>Source</th>\n",
       "      <th>LabelName</th>\n",
       "      <th>Confidence</th>\n",
       "      <th>XMin</th>\n",
       "      <th>XMax</th>\n",
       "      <th>YMin</th>\n",
       "      <th>YMax</th>\n",
       "      <th>IsOccluded</th>\n",
       "      <th>IsTruncated</th>\n",
       "      <th>...</th>\n",
       "      <th>IsDepiction</th>\n",
       "      <th>IsInside</th>\n",
       "      <th>XClick1X</th>\n",
       "      <th>XClick2X</th>\n",
       "      <th>XClick3X</th>\n",
       "      <th>XClick4X</th>\n",
       "      <th>XClick1Y</th>\n",
       "      <th>XClick2Y</th>\n",
       "      <th>XClick3Y</th>\n",
       "      <th>XClick4Y</th>\n",
       "    </tr>\n",
       "  </thead>\n",
       "  <tbody>\n",
       "    <tr>\n",
       "      <th>0</th>\n",
       "      <td>000002b66c9c498e</td>\n",
       "      <td>xclick</td>\n",
       "      <td>/m/01g317</td>\n",
       "      <td>1</td>\n",
       "      <td>0.012500</td>\n",
       "      <td>0.195312</td>\n",
       "      <td>0.148438</td>\n",
       "      <td>0.587500</td>\n",
       "      <td>0</td>\n",
       "      <td>1</td>\n",
       "      <td>...</td>\n",
       "      <td>0</td>\n",
       "      <td>0</td>\n",
       "      <td>0.148438</td>\n",
       "      <td>0.012500</td>\n",
       "      <td>0.059375</td>\n",
       "      <td>0.195312</td>\n",
       "      <td>0.148438</td>\n",
       "      <td>0.357812</td>\n",
       "      <td>0.587500</td>\n",
       "      <td>0.325000</td>\n",
       "    </tr>\n",
       "    <tr>\n",
       "      <th>1</th>\n",
       "      <td>000002b66c9c498e</td>\n",
       "      <td>xclick</td>\n",
       "      <td>/m/01g317</td>\n",
       "      <td>1</td>\n",
       "      <td>0.025000</td>\n",
       "      <td>0.276563</td>\n",
       "      <td>0.714063</td>\n",
       "      <td>0.948438</td>\n",
       "      <td>0</td>\n",
       "      <td>1</td>\n",
       "      <td>...</td>\n",
       "      <td>0</td>\n",
       "      <td>0</td>\n",
       "      <td>0.025000</td>\n",
       "      <td>0.248438</td>\n",
       "      <td>0.276563</td>\n",
       "      <td>0.214062</td>\n",
       "      <td>0.914062</td>\n",
       "      <td>0.714063</td>\n",
       "      <td>0.782813</td>\n",
       "      <td>0.948438</td>\n",
       "    </tr>\n",
       "    <tr>\n",
       "      <th>2</th>\n",
       "      <td>000002b66c9c498e</td>\n",
       "      <td>xclick</td>\n",
       "      <td>/m/01g317</td>\n",
       "      <td>1</td>\n",
       "      <td>0.151562</td>\n",
       "      <td>0.310937</td>\n",
       "      <td>0.198437</td>\n",
       "      <td>0.590625</td>\n",
       "      <td>1</td>\n",
       "      <td>0</td>\n",
       "      <td>...</td>\n",
       "      <td>0</td>\n",
       "      <td>0</td>\n",
       "      <td>0.243750</td>\n",
       "      <td>0.151562</td>\n",
       "      <td>0.310937</td>\n",
       "      <td>0.262500</td>\n",
       "      <td>0.198437</td>\n",
       "      <td>0.434375</td>\n",
       "      <td>0.507812</td>\n",
       "      <td>0.590625</td>\n",
       "    </tr>\n",
       "    <tr>\n",
       "      <th>3</th>\n",
       "      <td>000002b66c9c498e</td>\n",
       "      <td>xclick</td>\n",
       "      <td>/m/01g317</td>\n",
       "      <td>1</td>\n",
       "      <td>0.256250</td>\n",
       "      <td>0.429688</td>\n",
       "      <td>0.651563</td>\n",
       "      <td>0.925000</td>\n",
       "      <td>1</td>\n",
       "      <td>0</td>\n",
       "      <td>...</td>\n",
       "      <td>0</td>\n",
       "      <td>0</td>\n",
       "      <td>0.315625</td>\n",
       "      <td>0.429688</td>\n",
       "      <td>0.256250</td>\n",
       "      <td>0.423438</td>\n",
       "      <td>0.651563</td>\n",
       "      <td>0.921875</td>\n",
       "      <td>0.826562</td>\n",
       "      <td>0.925000</td>\n",
       "    </tr>\n",
       "    <tr>\n",
       "      <th>4</th>\n",
       "      <td>000002b66c9c498e</td>\n",
       "      <td>xclick</td>\n",
       "      <td>/m/01g317</td>\n",
       "      <td>1</td>\n",
       "      <td>0.257812</td>\n",
       "      <td>0.346875</td>\n",
       "      <td>0.235938</td>\n",
       "      <td>0.385938</td>\n",
       "      <td>1</td>\n",
       "      <td>0</td>\n",
       "      <td>...</td>\n",
       "      <td>0</td>\n",
       "      <td>0</td>\n",
       "      <td>0.317188</td>\n",
       "      <td>0.257812</td>\n",
       "      <td>0.346875</td>\n",
       "      <td>0.307812</td>\n",
       "      <td>0.235938</td>\n",
       "      <td>0.289062</td>\n",
       "      <td>0.348438</td>\n",
       "      <td>0.385938</td>\n",
       "    </tr>\n",
       "  </tbody>\n",
       "</table>\n",
       "<p>5 rows × 21 columns</p>\n",
       "</div>"
      ],
      "text/plain": [
       "            ImageID  Source  LabelName  Confidence      XMin      XMax  \\\n",
       "0  000002b66c9c498e  xclick  /m/01g317           1  0.012500  0.195312   \n",
       "1  000002b66c9c498e  xclick  /m/01g317           1  0.025000  0.276563   \n",
       "2  000002b66c9c498e  xclick  /m/01g317           1  0.151562  0.310937   \n",
       "3  000002b66c9c498e  xclick  /m/01g317           1  0.256250  0.429688   \n",
       "4  000002b66c9c498e  xclick  /m/01g317           1  0.257812  0.346875   \n",
       "\n",
       "       YMin      YMax  IsOccluded  IsTruncated  ...  IsDepiction  IsInside  \\\n",
       "0  0.148438  0.587500           0            1  ...            0         0   \n",
       "1  0.714063  0.948438           0            1  ...            0         0   \n",
       "2  0.198437  0.590625           1            0  ...            0         0   \n",
       "3  0.651563  0.925000           1            0  ...            0         0   \n",
       "4  0.235938  0.385938           1            0  ...            0         0   \n",
       "\n",
       "   XClick1X  XClick2X  XClick3X  XClick4X  XClick1Y  XClick2Y  XClick3Y  \\\n",
       "0  0.148438  0.012500  0.059375  0.195312  0.148438  0.357812  0.587500   \n",
       "1  0.025000  0.248438  0.276563  0.214062  0.914062  0.714063  0.782813   \n",
       "2  0.243750  0.151562  0.310937  0.262500  0.198437  0.434375  0.507812   \n",
       "3  0.315625  0.429688  0.256250  0.423438  0.651563  0.921875  0.826562   \n",
       "4  0.317188  0.257812  0.346875  0.307812  0.235938  0.289062  0.348438   \n",
       "\n",
       "   XClick4Y  \n",
       "0  0.325000  \n",
       "1  0.948438  \n",
       "2  0.590625  \n",
       "3  0.925000  \n",
       "4  0.385938  \n",
       "\n",
       "[5 rows x 21 columns]"
      ]
     },
     "execution_count": 8,
     "metadata": {},
     "output_type": "execute_result"
    }
   ],
   "source": [
    "# 3. data pre-processing\n",
    "training_annotation_loc = os.path.join(paths['IMAGE_PATH'],\"train\",\"labels\",\"detections.csv\")\n",
    "training_annotation_file = pd.read_csv(training_annotation_loc)\n",
    "print(\"records present for training befor filtering: \",training_annotation_file.shape)\n",
    "training_annotation_file.head()"
   ]
  },
  {
   "cell_type": "code",
   "execution_count": 9,
   "id": "51962201",
   "metadata": {},
   "outputs": [
    {
     "data": {
      "text/plain": [
       "(601, 2)"
      ]
     },
     "execution_count": 9,
     "metadata": {},
     "output_type": "execute_result"
    }
   ],
   "source": [
    "# The classes.csv contains the name of all 600 classes with their corresponding ‘LabelName’\n",
    "class_descriptions_file=os.path.join(paths['IMAGE_PATH'],\"train\",\"metadata\",\"classes.csv\")\n",
    "class_descriptions = pd.read_csv(class_descriptions_file, header=None,names=[\"LabelName\", \"ClassName\"])\n",
    "class_descriptions.shape"
   ]
  },
  {
   "cell_type": "code",
   "execution_count": 10,
   "id": "232f775f",
   "metadata": {},
   "outputs": [
    {
     "data": {
      "text/html": [
       "<div>\n",
       "<style scoped>\n",
       "    .dataframe tbody tr th:only-of-type {\n",
       "        vertical-align: middle;\n",
       "    }\n",
       "\n",
       "    .dataframe tbody tr th {\n",
       "        vertical-align: top;\n",
       "    }\n",
       "\n",
       "    .dataframe thead th {\n",
       "        text-align: right;\n",
       "    }\n",
       "</style>\n",
       "<table border=\"1\" class=\"dataframe\">\n",
       "  <thead>\n",
       "    <tr style=\"text-align: right;\">\n",
       "      <th></th>\n",
       "      <th>LabelName</th>\n",
       "      <th>ClassName</th>\n",
       "    </tr>\n",
       "  </thead>\n",
       "  <tbody>\n",
       "    <tr>\n",
       "      <th>39</th>\n",
       "      <td>/m/0199g</td>\n",
       "      <td>Bicycle</td>\n",
       "    </tr>\n",
       "    <tr>\n",
       "      <th>49</th>\n",
       "      <td>/m/01bjv</td>\n",
       "      <td>Bus</td>\n",
       "    </tr>\n",
       "    <tr>\n",
       "      <th>68</th>\n",
       "      <td>/m/01g317</td>\n",
       "      <td>Person</td>\n",
       "    </tr>\n",
       "    <tr>\n",
       "      <th>299</th>\n",
       "      <td>/m/04_sv</td>\n",
       "      <td>Motorcycle</td>\n",
       "    </tr>\n",
       "    <tr>\n",
       "      <th>307</th>\n",
       "      <td>/m/04yx4</td>\n",
       "      <td>Man</td>\n",
       "    </tr>\n",
       "    <tr>\n",
       "      <th>399</th>\n",
       "      <td>/m/07r04</td>\n",
       "      <td>Truck</td>\n",
       "    </tr>\n",
       "    <tr>\n",
       "      <th>445</th>\n",
       "      <td>/m/0bt9lr</td>\n",
       "      <td>Dog</td>\n",
       "    </tr>\n",
       "    <tr>\n",
       "      <th>534</th>\n",
       "      <td>/m/0h2r6</td>\n",
       "      <td>Van</td>\n",
       "    </tr>\n",
       "    <tr>\n",
       "      <th>570</th>\n",
       "      <td>/m/0k4j</td>\n",
       "      <td>Car</td>\n",
       "    </tr>\n",
       "  </tbody>\n",
       "</table>\n",
       "</div>"
      ],
      "text/plain": [
       "     LabelName   ClassName\n",
       "39    /m/0199g     Bicycle\n",
       "49    /m/01bjv         Bus\n",
       "68   /m/01g317      Person\n",
       "299   /m/04_sv  Motorcycle\n",
       "307   /m/04yx4         Man\n",
       "399   /m/07r04       Truck\n",
       "445  /m/0bt9lr         Dog\n",
       "534   /m/0h2r6         Van\n",
       "570    /m/0k4j         Car"
      ]
     },
     "execution_count": 10,
     "metadata": {},
     "output_type": "execute_result"
    }
   ],
   "source": [
    "# Find the label_name for my classes\n",
    "my_classes = class_descriptions[class_descriptions[\"ClassName\"].isin(CLASSES)]\n",
    "my_classes"
   ]
  },
  {
   "cell_type": "markdown",
   "id": "8e195e79",
   "metadata": {},
   "source": [
    "**3.1 train data**"
   ]
  },
  {
   "cell_type": "code",
   "execution_count": 11,
   "id": "5ff14a9a",
   "metadata": {},
   "outputs": [],
   "source": [
    "#filtering to only have the boxes of our classes\n",
    "training_filtred_data=training_annotation_file.merge(my_classes, on=\"LabelName\", how='inner')"
   ]
  },
  {
   "cell_type": "code",
   "execution_count": 12,
   "id": "e60e0af9",
   "metadata": {},
   "outputs": [
    {
     "data": {
      "text/plain": [
       "2815390"
      ]
     },
     "execution_count": 12,
     "metadata": {},
     "output_type": "execute_result"
    }
   ],
   "source": [
    "training_filtred_data[\"ClassName\"].count()"
   ]
  },
  {
   "cell_type": "code",
   "execution_count": 13,
   "id": "8181c9c5",
   "metadata": {},
   "outputs": [
    {
     "data": {
      "text/plain": [
       "Man           1418594\n",
       "Person        1034721\n",
       "Car            248075\n",
       "Bicycle         40161\n",
       "Dog             28675\n",
       "Motorcycle      13382\n",
       "Truck           12135\n",
       "Bus             11927\n",
       "Van              7720\n",
       "Name: ClassName, dtype: int64"
      ]
     },
     "execution_count": 13,
     "metadata": {},
     "output_type": "execute_result"
    }
   ],
   "source": [
    "training_filtred_data['ClassName'].value_counts()"
   ]
  },
  {
   "cell_type": "code",
   "execution_count": 14,
   "id": "a094556a",
   "metadata": {},
   "outputs": [
    {
     "data": {
      "text/html": [
       "<div>\n",
       "<style scoped>\n",
       "    .dataframe tbody tr th:only-of-type {\n",
       "        vertical-align: middle;\n",
       "    }\n",
       "\n",
       "    .dataframe tbody tr th {\n",
       "        vertical-align: top;\n",
       "    }\n",
       "\n",
       "    .dataframe thead th {\n",
       "        text-align: right;\n",
       "    }\n",
       "</style>\n",
       "<table border=\"1\" class=\"dataframe\">\n",
       "  <thead>\n",
       "    <tr style=\"text-align: right;\">\n",
       "      <th></th>\n",
       "      <th>ImageID</th>\n",
       "      <th>XMin</th>\n",
       "      <th>XMax</th>\n",
       "      <th>YMin</th>\n",
       "      <th>YMax</th>\n",
       "      <th>ClassName</th>\n",
       "    </tr>\n",
       "  </thead>\n",
       "  <tbody>\n",
       "    <tr>\n",
       "      <th>0</th>\n",
       "      <td>000002b66c9c498e.jpg</td>\n",
       "      <td>0.012500</td>\n",
       "      <td>0.195312</td>\n",
       "      <td>0.148438</td>\n",
       "      <td>0.587500</td>\n",
       "      <td>Person</td>\n",
       "    </tr>\n",
       "    <tr>\n",
       "      <th>1</th>\n",
       "      <td>000002b66c9c498e.jpg</td>\n",
       "      <td>0.025000</td>\n",
       "      <td>0.276563</td>\n",
       "      <td>0.714063</td>\n",
       "      <td>0.948438</td>\n",
       "      <td>Person</td>\n",
       "    </tr>\n",
       "    <tr>\n",
       "      <th>2</th>\n",
       "      <td>000002b66c9c498e.jpg</td>\n",
       "      <td>0.151562</td>\n",
       "      <td>0.310937</td>\n",
       "      <td>0.198437</td>\n",
       "      <td>0.590625</td>\n",
       "      <td>Person</td>\n",
       "    </tr>\n",
       "    <tr>\n",
       "      <th>3</th>\n",
       "      <td>000002b66c9c498e.jpg</td>\n",
       "      <td>0.256250</td>\n",
       "      <td>0.429688</td>\n",
       "      <td>0.651563</td>\n",
       "      <td>0.925000</td>\n",
       "      <td>Person</td>\n",
       "    </tr>\n",
       "    <tr>\n",
       "      <th>4</th>\n",
       "      <td>000002b66c9c498e.jpg</td>\n",
       "      <td>0.257812</td>\n",
       "      <td>0.346875</td>\n",
       "      <td>0.235938</td>\n",
       "      <td>0.385938</td>\n",
       "      <td>Person</td>\n",
       "    </tr>\n",
       "  </tbody>\n",
       "</table>\n",
       "</div>"
      ],
      "text/plain": [
       "                ImageID      XMin      XMax      YMin      YMax ClassName\n",
       "0  000002b66c9c498e.jpg  0.012500  0.195312  0.148438  0.587500    Person\n",
       "1  000002b66c9c498e.jpg  0.025000  0.276563  0.714063  0.948438    Person\n",
       "2  000002b66c9c498e.jpg  0.151562  0.310937  0.198437  0.590625    Person\n",
       "3  000002b66c9c498e.jpg  0.256250  0.429688  0.651563  0.925000    Person\n",
       "4  000002b66c9c498e.jpg  0.257812  0.346875  0.235938  0.385938    Person"
      ]
     },
     "execution_count": 14,
     "metadata": {},
     "output_type": "execute_result"
    }
   ],
   "source": [
    "train_df= training_filtred_data.loc[:,['ImageID','XMin','XMax','YMin','YMax','ClassName']]\n",
    "train_df['ImageID']=train_df['ImageID']+'.jpg'\n",
    "train_df.head()"
   ]
  },
  {
   "cell_type": "code",
   "execution_count": 15,
   "id": "820686f6",
   "metadata": {},
   "outputs": [],
   "source": [
    "train_image_path=os.path.join(paths['IMAGE_PATH'],\"train\",\"data\")\n",
    "train_onlyfiles = [f for f in listdir(train_image_path) if isfile(join(train_image_path, f))]\n",
    "train_images_df=pd.DataFrame(train_onlyfiles,columns=['ImageID'])\n",
    "train_df=train_df.merge(train_images_df, on=\"ImageID\", how='inner')"
   ]
  },
  {
   "cell_type": "markdown",
   "id": "4e12fedb",
   "metadata": {},
   "source": [
    "**3.2 test data**"
   ]
  },
  {
   "cell_type": "code",
   "execution_count": 16,
   "id": "0a6afd4d",
   "metadata": {},
   "outputs": [
    {
     "name": "stdout",
     "output_type": "stream",
     "text": [
      "records present for testing befor filtering:  (937327, 13)\n"
     ]
    },
    {
     "data": {
      "text/plain": [
       "Person        53385\n",
       "Car           30153\n",
       "Man           26231\n",
       "Dog            5856\n",
       "Bicycle        1203\n",
       "Truck          1072\n",
       "Motorcycle      683\n",
       "Van             636\n",
       "Bus             386\n",
       "Name: ClassName, dtype: int64"
      ]
     },
     "execution_count": 16,
     "metadata": {},
     "output_type": "execute_result"
    }
   ],
   "source": [
    "testing_annotation_loc = os.path.join(paths['IMAGE_PATH'],\"test\",\"labels\",\"detections.csv\")\n",
    "testing_annotation_file = pd.read_csv(testing_annotation_loc)\n",
    "print(\"records present for testing befor filtering: \",testing_annotation_file.shape)\n",
    "testing_filtred_data=testing_annotation_file.merge(my_classes, on=\"LabelName\", how='inner')\n",
    "testing_filtred_data['ClassName'].value_counts()"
   ]
  },
  {
   "cell_type": "code",
   "execution_count": 17,
   "id": "dd89c9b7",
   "metadata": {},
   "outputs": [
    {
     "data": {
      "text/html": [
       "<div>\n",
       "<style scoped>\n",
       "    .dataframe tbody tr th:only-of-type {\n",
       "        vertical-align: middle;\n",
       "    }\n",
       "\n",
       "    .dataframe tbody tr th {\n",
       "        vertical-align: top;\n",
       "    }\n",
       "\n",
       "    .dataframe thead th {\n",
       "        text-align: right;\n",
       "    }\n",
       "</style>\n",
       "<table border=\"1\" class=\"dataframe\">\n",
       "  <thead>\n",
       "    <tr style=\"text-align: right;\">\n",
       "      <th></th>\n",
       "      <th>ImageID</th>\n",
       "      <th>XMin</th>\n",
       "      <th>XMax</th>\n",
       "      <th>YMin</th>\n",
       "      <th>YMax</th>\n",
       "      <th>ClassName</th>\n",
       "    </tr>\n",
       "  </thead>\n",
       "  <tbody>\n",
       "    <tr>\n",
       "      <th>0</th>\n",
       "      <td>0000c64e1253d68f.jpg</td>\n",
       "      <td>0.000000</td>\n",
       "      <td>0.513274</td>\n",
       "      <td>0.320796</td>\n",
       "      <td>0.690265</td>\n",
       "      <td>Car</td>\n",
       "    </tr>\n",
       "    <tr>\n",
       "      <th>1</th>\n",
       "      <td>0000c64e1253d68f.jpg</td>\n",
       "      <td>0.016224</td>\n",
       "      <td>0.268437</td>\n",
       "      <td>0.298673</td>\n",
       "      <td>0.462389</td>\n",
       "      <td>Car</td>\n",
       "    </tr>\n",
       "    <tr>\n",
       "      <th>2</th>\n",
       "      <td>0000c64e1253d68f.jpg</td>\n",
       "      <td>0.480826</td>\n",
       "      <td>0.904130</td>\n",
       "      <td>0.232301</td>\n",
       "      <td>0.488938</td>\n",
       "      <td>Car</td>\n",
       "    </tr>\n",
       "    <tr>\n",
       "      <th>3</th>\n",
       "      <td>0000c64e1253d68f.jpg</td>\n",
       "      <td>0.752212</td>\n",
       "      <td>1.000000</td>\n",
       "      <td>0.331858</td>\n",
       "      <td>0.657080</td>\n",
       "      <td>Car</td>\n",
       "    </tr>\n",
       "    <tr>\n",
       "      <th>4</th>\n",
       "      <td>001547e7ef44a7d8.jpg</td>\n",
       "      <td>0.000000</td>\n",
       "      <td>0.051546</td>\n",
       "      <td>0.261641</td>\n",
       "      <td>0.303769</td>\n",
       "      <td>Car</td>\n",
       "    </tr>\n",
       "  </tbody>\n",
       "</table>\n",
       "</div>"
      ],
      "text/plain": [
       "                ImageID      XMin      XMax      YMin      YMax ClassName\n",
       "0  0000c64e1253d68f.jpg  0.000000  0.513274  0.320796  0.690265       Car\n",
       "1  0000c64e1253d68f.jpg  0.016224  0.268437  0.298673  0.462389       Car\n",
       "2  0000c64e1253d68f.jpg  0.480826  0.904130  0.232301  0.488938       Car\n",
       "3  0000c64e1253d68f.jpg  0.752212  1.000000  0.331858  0.657080       Car\n",
       "4  001547e7ef44a7d8.jpg  0.000000  0.051546  0.261641  0.303769       Car"
      ]
     },
     "execution_count": 17,
     "metadata": {},
     "output_type": "execute_result"
    }
   ],
   "source": [
    "test_df= testing_filtred_data.loc[:,['ImageID','XMin','XMax','YMin','YMax','ClassName']]\n",
    "test_df['ImageID']=test_df['ImageID']+'.jpg'\n",
    "test_df.head()"
   ]
  },
  {
   "cell_type": "code",
   "execution_count": 18,
   "id": "a5152a3a",
   "metadata": {},
   "outputs": [],
   "source": [
    "test_image_path=os.path.join(paths['IMAGE_PATH'],\"test\",\"data\")\n",
    "test_onlyfiles = [f for f in listdir(test_image_path) if isfile(join(test_image_path, f))]\n",
    "test_images_df=pd.DataFrame(test_onlyfiles,columns=['ImageID'])\n",
    "test_df=test_df.merge(test_images_df, on=\"ImageID\", how='inner')"
   ]
  },
  {
   "cell_type": "markdown",
   "id": "d9f92a77",
   "metadata": {},
   "source": [
    "**3.3 Validation data**"
   ]
  },
  {
   "cell_type": "code",
   "execution_count": 19,
   "id": "2cddaea4",
   "metadata": {},
   "outputs": [
    {
     "name": "stdout",
     "output_type": "stream",
     "text": [
      "records present for validation befor filtering :  (303980, 13)\n"
     ]
    },
    {
     "data": {
      "text/plain": [
       "Person        16753\n",
       "Car            9924\n",
       "Man            8493\n",
       "Dog            1937\n",
       "Bicycle         418\n",
       "Truck           354\n",
       "Motorcycle      232\n",
       "Van             197\n",
       "Bus             103\n",
       "Name: ClassName, dtype: int64"
      ]
     },
     "execution_count": 19,
     "metadata": {},
     "output_type": "execute_result"
    }
   ],
   "source": [
    "val_annotation_loc = os.path.join(paths['IMAGE_PATH'],\"validation\",\"labels\",\"detections.csv\")\n",
    "val_annotation_file = pd.read_csv(val_annotation_loc)\n",
    "print(\"records present for validation befor filtering : \",val_annotation_file.shape)\n",
    "val_filtred_data=val_annotation_file.merge(my_classes, on=\"LabelName\", how='inner')\n",
    "val_filtred_data['ClassName'].value_counts()"
   ]
  },
  {
   "cell_type": "code",
   "execution_count": 20,
   "id": "e933eeff",
   "metadata": {},
   "outputs": [
    {
     "data": {
      "text/html": [
       "<div>\n",
       "<style scoped>\n",
       "    .dataframe tbody tr th:only-of-type {\n",
       "        vertical-align: middle;\n",
       "    }\n",
       "\n",
       "    .dataframe tbody tr th {\n",
       "        vertical-align: top;\n",
       "    }\n",
       "\n",
       "    .dataframe thead th {\n",
       "        text-align: right;\n",
       "    }\n",
       "</style>\n",
       "<table border=\"1\" class=\"dataframe\">\n",
       "  <thead>\n",
       "    <tr style=\"text-align: right;\">\n",
       "      <th></th>\n",
       "      <th>ImageID</th>\n",
       "      <th>XMin</th>\n",
       "      <th>XMax</th>\n",
       "      <th>YMin</th>\n",
       "      <th>YMax</th>\n",
       "      <th>ClassName</th>\n",
       "    </tr>\n",
       "  </thead>\n",
       "  <tbody>\n",
       "    <tr>\n",
       "      <th>0</th>\n",
       "      <td>00075905539074f2.jpg</td>\n",
       "      <td>0.020478</td>\n",
       "      <td>0.329352</td>\n",
       "      <td>0.095602</td>\n",
       "      <td>0.665392</td>\n",
       "      <td>Man</td>\n",
       "    </tr>\n",
       "    <tr>\n",
       "      <th>1</th>\n",
       "      <td>00075905539074f2.jpg</td>\n",
       "      <td>0.320819</td>\n",
       "      <td>0.639932</td>\n",
       "      <td>0.000000</td>\n",
       "      <td>0.659656</td>\n",
       "      <td>Man</td>\n",
       "    </tr>\n",
       "    <tr>\n",
       "      <th>2</th>\n",
       "      <td>00075905539074f2.jpg</td>\n",
       "      <td>0.675768</td>\n",
       "      <td>0.991468</td>\n",
       "      <td>0.172084</td>\n",
       "      <td>0.948375</td>\n",
       "      <td>Man</td>\n",
       "    </tr>\n",
       "    <tr>\n",
       "      <th>3</th>\n",
       "      <td>000a1249af2bc5f0.jpg</td>\n",
       "      <td>0.222059</td>\n",
       "      <td>0.998529</td>\n",
       "      <td>0.000000</td>\n",
       "      <td>0.988914</td>\n",
       "      <td>Man</td>\n",
       "    </tr>\n",
       "    <tr>\n",
       "      <th>4</th>\n",
       "      <td>00141571d986d241.jpg</td>\n",
       "      <td>0.000000</td>\n",
       "      <td>0.176563</td>\n",
       "      <td>0.164583</td>\n",
       "      <td>1.000000</td>\n",
       "      <td>Man</td>\n",
       "    </tr>\n",
       "  </tbody>\n",
       "</table>\n",
       "</div>"
      ],
      "text/plain": [
       "                ImageID      XMin      XMax      YMin      YMax ClassName\n",
       "0  00075905539074f2.jpg  0.020478  0.329352  0.095602  0.665392       Man\n",
       "1  00075905539074f2.jpg  0.320819  0.639932  0.000000  0.659656       Man\n",
       "2  00075905539074f2.jpg  0.675768  0.991468  0.172084  0.948375       Man\n",
       "3  000a1249af2bc5f0.jpg  0.222059  0.998529  0.000000  0.988914       Man\n",
       "4  00141571d986d241.jpg  0.000000  0.176563  0.164583  1.000000       Man"
      ]
     },
     "execution_count": 20,
     "metadata": {},
     "output_type": "execute_result"
    }
   ],
   "source": [
    "val_df= val_filtred_data.loc[:,['ImageID','XMin','XMax','YMin','YMax','ClassName']]\n",
    "val_df['ImageID']=val_df['ImageID']+'.jpg'\n",
    "val_df.head()"
   ]
  },
  {
   "cell_type": "code",
   "execution_count": 21,
   "id": "176130c5",
   "metadata": {},
   "outputs": [],
   "source": [
    "val_image_path=os.path.join(paths['IMAGE_PATH'],\"validation\",\"data\")\n",
    "val_onlyfiles = [f for f in listdir(val_image_path) if isfile(join(val_image_path, f))]\n",
    "val_images_df=pd.DataFrame(val_onlyfiles,columns=['ImageID'])\n",
    "val_df=val_df.merge(val_images_df, on=\"ImageID\", how='inner')"
   ]
  },
  {
   "cell_type": "markdown",
   "id": "6f597326",
   "metadata": {},
   "source": [
    "# 4. Exporting"
   ]
  },
  {
   "cell_type": "markdown",
   "id": "02b437eb",
   "metadata": {},
   "source": [
    "**4.1 EXPORTING CVS**"
   ]
  },
  {
   "cell_type": "code",
   "execution_count": 22,
   "id": "c873f274",
   "metadata": {},
   "outputs": [],
   "source": [
    "train_df.to_csv(os.path.join(paths['ANNOTATION_TRAIN_PATH'],'train.csv'))\n",
    "test_df.to_csv(os.path.join(paths['ANNOTATION_TEST_PATH'],'test.csv'))\n",
    "val_df.to_csv(os.path.join(paths['ANNOTATION_VAL_PATH'],'val.csv'))"
   ]
  },
  {
   "cell_type": "markdown",
   "id": "d4b3fff3",
   "metadata": {},
   "source": [
    "**4.2 create annotation fileS**"
   ]
  },
  {
   "cell_type": "code",
   "execution_count": 23,
   "id": "fe6aa1e8",
   "metadata": {},
   "outputs": [],
   "source": [
    "def df_to_annotation(df,filepath,part=\"train\"):\n",
    "    with open(filepath, \"w+\") as f:\n",
    "        for idx, row in df.iterrows():\n",
    "            fileName = os.path.join(paths[\"IMAGE_PATH\"],part,'data',row['ImageID'])\n",
    "            img = cv2.imread(fileName)\n",
    "            height, width = img.shape[:2]\n",
    "            x1 = int(row['XMin'] * width)\n",
    "            x2 = int(row['XMax'] * width)\n",
    "            y1 = int(row['YMin'] * height)\n",
    "            y2 = int(row['YMax'] * height)\n",
    "            className = row['ClassName']\n",
    "            f.write(fileName + ',' + str(x1) + ',' + str(y1) + ',' + str(x2) + ',' + str(y2) + ',' + className + '\\n')"
   ]
  },
  {
   "cell_type": "code",
   "execution_count": 24,
   "id": "cbd7538f",
   "metadata": {},
   "outputs": [],
   "source": [
    "train_annotation_file=os.path.join(paths['ANNOTATION_TRAIN_PATH'],\"annotation.txt\")\n",
    "!touch train_annotation_file #create the file if it doesn't exist\n",
    "#uncomment it if you want to load df from disk\n",
    "#train_df = pd.read_csv(join(paths['ANNOTATION_TRAIN_PATH'],'train.csv')) \n",
    "df_to_annotation(train_df,train_annotation_file,\"train\")"
   ]
  },
  {
   "cell_type": "code",
   "execution_count": 25,
   "id": "6c8a428d",
   "metadata": {},
   "outputs": [],
   "source": [
    "test_annotation_file=os.path.join(paths['ANNOTATION_TEST_PATH'],\"annotation.txt\")\n",
    "!touch test_annotation_file #create the file if it doesn't exist\n",
    "#uncomment it if you want to load df from disk\n",
    "#test_df = pd.read_csv(join(paths['ANNOTATION_TEST_PATH'],'test.csv'))\n",
    "df_to_annotation(test_df,test_annotation_file,\"test\")"
   ]
  },
  {
   "cell_type": "code",
   "execution_count": 26,
   "id": "ce32fa39",
   "metadata": {},
   "outputs": [],
   "source": [
    "val_annotation_file=os.path.join(paths['ANNOTATION_VAL_PATH'],\"annotation.txt\")\n",
    "!touch val_annotation_file #create the file if it doesn't exist\n",
    "#uncomment it if you want to load df from disk\n",
    "#val_df = pd.read_csv(join(paths['ANNOTATION_VAL_PATH'],'val.csv'))\n",
    "df_to_annotation(val_df,val_annotation_file,\"validation\")"
   ]
  },
  {
   "cell_type": "markdown",
   "id": "941238da",
   "metadata": {},
   "source": [
    "Now we have annotation files in the format path_to_image,x1,y1,x2,y2,className (ex Dog)"
   ]
  }
 ],
 "metadata": {
  "kernelspec": {
   "display_name": "Python (final_results)",
   "language": "python",
   "name": "final_results"
  },
  "language_info": {
   "codemirror_mode": {
    "name": "ipython",
    "version": 3
   },
   "file_extension": ".py",
   "mimetype": "text/x-python",
   "name": "python",
   "nbconvert_exporter": "python",
   "pygments_lexer": "ipython3",
   "version": "3.9.10"
  }
 },
 "nbformat": 4,
 "nbformat_minor": 5
}
